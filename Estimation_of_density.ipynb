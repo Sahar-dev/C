{
  "nbformat": 4,
  "nbformat_minor": 0,
  "metadata": {
    "colab": {
      "name": "Estimation of density.ipynb",
      "provenance": [],
      "collapsed_sections": [],
      "toc_visible": true,
      "include_colab_link": true
    },
    "kernelspec": {
      "name": "python3",
      "display_name": "Python 3"
    },
    "language_info": {
      "name": "python"
    }
  },
  "cells": [
    {
      "cell_type": "markdown",
      "metadata": {
        "id": "view-in-github",
        "colab_type": "text"
      },
      "source": [
        "<a href=\"https://colab.research.google.com/github/Sahar-dev/C/blob/main/Estimation_of_density.ipynb\" target=\"_parent\"><img src=\"https://colab.research.google.com/assets/colab-badge.svg\" alt=\"Open In Colab\"/></a>"
      ]
    },
    {
      "cell_type": "markdown",
      "source": [
        "# Tp3 : Estimation de la densité de probabilité par histogramme et par noyaux\n",
        "\n",
        "---\n",
        "\n",
        "\n",
        "*   Tracage de l'histogramme des données\n",
        "* Extraction des caractéristique des population\n",
        "* estimation de la densité de probabilité par histogramme\n",
        "*Estimation de la densite de probabilité"
      ],
      "metadata": {
        "id": "yH77-FRAc0FK"
      }
    },
    {
      "cell_type": "markdown",
      "source": [
        "##Overview et division (extraction) du *données*"
      ],
      "metadata": {
        "id": "QCgrXQIKd_Qe"
      }
    },
    {
      "cell_type": "markdown",
      "source": [
        "###overview"
      ],
      "metadata": {
        "id": "hD350siTeh0u"
      }
    },
    {
      "cell_type": "code",
      "execution_count": null,
      "metadata": {
        "id": "gHpTPPZevU3q"
      },
      "outputs": [],
      "source": [
        "import seaborn as sns"
      ]
    },
    {
      "cell_type": "code",
      "source": [
        "Data=sns.load_dataset('iris')\n",
        "Data.shape"
      ],
      "metadata": {
        "id": "JSf-_HTXvf2K",
        "colab": {
          "base_uri": "https://localhost:8080/"
        },
        "outputId": "7ccec54e-ccf1-4130-f5c0-672ef28acf6a"
      },
      "execution_count": null,
      "outputs": [
        {
          "output_type": "execute_result",
          "data": {
            "text/plain": [
              "(150, 5)"
            ]
          },
          "metadata": {},
          "execution_count": 4
        }
      ]
    },
    {
      "cell_type": "code",
      "source": [
        "Data.size"
      ],
      "metadata": {
        "colab": {
          "base_uri": "https://localhost:8080/"
        },
        "id": "aNcsUjyPereK",
        "outputId": "d2d52263-7a2b-4411-f950-e1220bcd0314"
      },
      "execution_count": null,
      "outputs": [
        {
          "output_type": "execute_result",
          "data": {
            "text/plain": [
              "750"
            ]
          },
          "metadata": {},
          "execution_count": 5
        }
      ]
    },
    {
      "cell_type": "markdown",
      "source": [
        "on a 4 features et 4 classes pour 150 données"
      ],
      "metadata": {
        "id": "fVjskUaxdU_p"
      }
    },
    {
      "cell_type": "code",
      "source": [
        "print(Data.head(52))"
      ],
      "metadata": {
        "colab": {
          "base_uri": "https://localhost:8080/"
        },
        "id": "l3atR_BDv-RN",
        "outputId": "f1f867e9-9c29-439f-9a3c-5ce2ab504c9f"
      },
      "execution_count": null,
      "outputs": [
        {
          "output_type": "stream",
          "name": "stdout",
          "text": [
            "    sepal_length  sepal_width  petal_length  petal_width     species\n",
            "0            5.1          3.5           1.4          0.2      setosa\n",
            "1            4.9          3.0           1.4          0.2      setosa\n",
            "2            4.7          3.2           1.3          0.2      setosa\n",
            "3            4.6          3.1           1.5          0.2      setosa\n",
            "4            5.0          3.6           1.4          0.2      setosa\n",
            "5            5.4          3.9           1.7          0.4      setosa\n",
            "6            4.6          3.4           1.4          0.3      setosa\n",
            "7            5.0          3.4           1.5          0.2      setosa\n",
            "8            4.4          2.9           1.4          0.2      setosa\n",
            "9            4.9          3.1           1.5          0.1      setosa\n",
            "10           5.4          3.7           1.5          0.2      setosa\n",
            "11           4.8          3.4           1.6          0.2      setosa\n",
            "12           4.8          3.0           1.4          0.1      setosa\n",
            "13           4.3          3.0           1.1          0.1      setosa\n",
            "14           5.8          4.0           1.2          0.2      setosa\n",
            "15           5.7          4.4           1.5          0.4      setosa\n",
            "16           5.4          3.9           1.3          0.4      setosa\n",
            "17           5.1          3.5           1.4          0.3      setosa\n",
            "18           5.7          3.8           1.7          0.3      setosa\n",
            "19           5.1          3.8           1.5          0.3      setosa\n",
            "20           5.4          3.4           1.7          0.2      setosa\n",
            "21           5.1          3.7           1.5          0.4      setosa\n",
            "22           4.6          3.6           1.0          0.2      setosa\n",
            "23           5.1          3.3           1.7          0.5      setosa\n",
            "24           4.8          3.4           1.9          0.2      setosa\n",
            "25           5.0          3.0           1.6          0.2      setosa\n",
            "26           5.0          3.4           1.6          0.4      setosa\n",
            "27           5.2          3.5           1.5          0.2      setosa\n",
            "28           5.2          3.4           1.4          0.2      setosa\n",
            "29           4.7          3.2           1.6          0.2      setosa\n",
            "30           4.8          3.1           1.6          0.2      setosa\n",
            "31           5.4          3.4           1.5          0.4      setosa\n",
            "32           5.2          4.1           1.5          0.1      setosa\n",
            "33           5.5          4.2           1.4          0.2      setosa\n",
            "34           4.9          3.1           1.5          0.2      setosa\n",
            "35           5.0          3.2           1.2          0.2      setosa\n",
            "36           5.5          3.5           1.3          0.2      setosa\n",
            "37           4.9          3.6           1.4          0.1      setosa\n",
            "38           4.4          3.0           1.3          0.2      setosa\n",
            "39           5.1          3.4           1.5          0.2      setosa\n",
            "40           5.0          3.5           1.3          0.3      setosa\n",
            "41           4.5          2.3           1.3          0.3      setosa\n",
            "42           4.4          3.2           1.3          0.2      setosa\n",
            "43           5.0          3.5           1.6          0.6      setosa\n",
            "44           5.1          3.8           1.9          0.4      setosa\n",
            "45           4.8          3.0           1.4          0.3      setosa\n",
            "46           5.1          3.8           1.6          0.2      setosa\n",
            "47           4.6          3.2           1.4          0.2      setosa\n",
            "48           5.3          3.7           1.5          0.2      setosa\n",
            "49           5.0          3.3           1.4          0.2      setosa\n",
            "50           7.0          3.2           4.7          1.4  versicolor\n",
            "51           6.4          3.2           4.5          1.5  versicolor\n"
          ]
        }
      ]
    },
    {
      "cell_type": "markdown",
      "source": [
        "###Extraction du 4 features"
      ],
      "metadata": {
        "id": "vY8JfkjPeMxF"
      }
    },
    {
      "cell_type": "code",
      "source": [
        "sepLen=Data[\"sepal_length\"]\n",
        "sepLen.head()"
      ],
      "metadata": {
        "colab": {
          "base_uri": "https://localhost:8080/"
        },
        "id": "6_LKlzVfwJJ7",
        "outputId": "d0029e3e-98cf-4c2d-c19a-e3e9834215f3"
      },
      "execution_count": null,
      "outputs": [
        {
          "output_type": "execute_result",
          "data": {
            "text/plain": [
              "0    5.1\n",
              "1    4.9\n",
              "2    4.7\n",
              "3    4.6\n",
              "4    5.0\n",
              "Name: sepal_length, dtype: float64"
            ]
          },
          "metadata": {},
          "execution_count": 38
        }
      ]
    },
    {
      "cell_type": "code",
      "source": [
        "sepWid=Data[\"sepal_width\"]\n",
        "sepWid.head()"
      ],
      "metadata": {
        "colab": {
          "base_uri": "https://localhost:8080/"
        },
        "id": "Vy_-or_Byy_y",
        "outputId": "4f04bc14-6e4b-4871-bc02-d9a20a1a3ac5"
      },
      "execution_count": null,
      "outputs": [
        {
          "output_type": "execute_result",
          "data": {
            "text/plain": [
              "0    3.5\n",
              "1    3.0\n",
              "2    3.2\n",
              "3    3.1\n",
              "4    3.6\n",
              "Name: sepal_width, dtype: float64"
            ]
          },
          "metadata": {},
          "execution_count": 39
        }
      ]
    },
    {
      "cell_type": "code",
      "source": [
        "petLen=Data[\"petal_length\"]\n",
        "petLen.head()"
      ],
      "metadata": {
        "colab": {
          "base_uri": "https://localhost:8080/"
        },
        "id": "1HUn5QG7y59V",
        "outputId": "106195e8-9c66-445e-f94e-94069dd80bb0"
      },
      "execution_count": null,
      "outputs": [
        {
          "output_type": "execute_result",
          "data": {
            "text/plain": [
              "0    1.4\n",
              "1    1.4\n",
              "2    1.3\n",
              "3    1.5\n",
              "4    1.4\n",
              "Name: petal_length, dtype: float64"
            ]
          },
          "metadata": {},
          "execution_count": 40
        }
      ]
    },
    {
      "cell_type": "code",
      "source": [
        "petWid=Data[\"petal_width\"]\n",
        "petWid.head()"
      ],
      "metadata": {
        "colab": {
          "base_uri": "https://localhost:8080/"
        },
        "id": "2K5nFNFDziwR",
        "outputId": "954069e5-cce0-4777-a2e6-724274f270cd"
      },
      "execution_count": null,
      "outputs": [
        {
          "output_type": "execute_result",
          "data": {
            "text/plain": [
              "0    0.2\n",
              "1    0.2\n",
              "2    0.2\n",
              "3    0.2\n",
              "4    0.2\n",
              "Name: petal_width, dtype: float64"
            ]
          },
          "metadata": {},
          "execution_count": 41
        }
      ]
    },
    {
      "cell_type": "markdown",
      "source": [
        "###Extraction du 4 classes  "
      ],
      "metadata": {
        "id": "huqKyJTLeTEH"
      }
    },
    {
      "cell_type": "code",
      "source": [
        "N=50\n",
        "c1 =sepLen[0:N]\n",
        "SepLenc1=sepLen[:N]\n",
        "SepLenc2=sepLen[50:50+N]\n",
        "SepLenc3=sepLen[50+N:50+2*N]"
      ],
      "metadata": {
        "id": "JcN0WEom17kW"
      },
      "execution_count": null,
      "outputs": []
    },
    {
      "cell_type": "code",
      "source": [
        "\n",
        "sepWid1=sepWid[:N]\n",
        "sepWid2=sepWid[50:50+N]\n",
        "sepWid3=sepWid[50+N:50+2*N]"
      ],
      "metadata": {
        "id": "Hic8UlF83IWa"
      },
      "execution_count": null,
      "outputs": []
    },
    {
      "cell_type": "code",
      "source": [
        "\n",
        "petLen1=petLen[:N]\n",
        "petLen2=petLen[50:50+N]\n",
        "petLen3=petLen[50+N:50+2*N]"
      ],
      "metadata": {
        "id": "eErbweMk3Ogv"
      },
      "execution_count": null,
      "outputs": []
    },
    {
      "cell_type": "code",
      "source": [
        "\n",
        "petWid1=petWid[:N]\n",
        "petWid2=petWid[50:50+N]\n",
        "petWid3=petWid[50+N:50+2*N]"
      ],
      "metadata": {
        "id": "fz7WV7-1OwTz"
      },
      "execution_count": null,
      "outputs": []
    },
    {
      "cell_type": "code",
      "source": [
        "c1.sepal_length.describe()"
      ],
      "metadata": {
        "colab": {
          "base_uri": "https://localhost:8080/"
        },
        "id": "d6nAnDUQ3xkU",
        "outputId": "7e5dda70-6451-48f7-e682-354abb4eafbc"
      },
      "execution_count": null,
      "outputs": [
        {
          "output_type": "execute_result",
          "data": {
            "text/plain": [
              "count    50.00000\n",
              "mean      5.00600\n",
              "std       0.35249\n",
              "min       4.30000\n",
              "25%       4.80000\n",
              "50%       5.00000\n",
              "75%       5.20000\n",
              "max       5.80000\n",
              "Name: sepal_length, dtype: float64"
            ]
          },
          "metadata": {},
          "execution_count": 80
        }
      ]
    },
    {
      "cell_type": "code",
      "source": [
        "c2.sepal_length.describe()"
      ],
      "metadata": {
        "colab": {
          "base_uri": "https://localhost:8080/"
        },
        "id": "zhdGiEnY6gxP",
        "outputId": "7807c17f-9613-487a-ca5a-aed2be737045"
      },
      "execution_count": null,
      "outputs": [
        {
          "output_type": "execute_result",
          "data": {
            "text/plain": [
              "count    50.000000\n",
              "mean      5.936000\n",
              "std       0.516171\n",
              "min       4.900000\n",
              "25%       5.600000\n",
              "50%       5.900000\n",
              "75%       6.300000\n",
              "max       7.000000\n",
              "Name: sepal_length, dtype: float64"
            ]
          },
          "metadata": {},
          "execution_count": 81
        }
      ]
    },
    {
      "cell_type": "code",
      "source": [
        "c3.sepal_length.describe()"
      ],
      "metadata": {
        "colab": {
          "base_uri": "https://localhost:8080/"
        },
        "id": "o3wWsQSy6hW4",
        "outputId": "56b32775-6b36-4407-9f36-49be50dc5344"
      },
      "execution_count": null,
      "outputs": [
        {
          "output_type": "execute_result",
          "data": {
            "text/plain": [
              "count    50.00000\n",
              "mean      6.58800\n",
              "std       0.63588\n",
              "min       4.90000\n",
              "25%       6.22500\n",
              "50%       6.50000\n",
              "75%       6.90000\n",
              "max       7.90000\n",
              "Name: sepal_length, dtype: float64"
            ]
          },
          "metadata": {},
          "execution_count": 82
        }
      ]
    },
    {
      "cell_type": "markdown",
      "source": [
        "##Etude pour *sepal_length*"
      ],
      "metadata": {
        "id": "FvoZx5iifIkw"
      }
    },
    {
      "cell_type": "code",
      "source": [
        "import pandas as pd\n",
        "print (c1.skew(axis=1))"
      ],
      "metadata": {
        "colab": {
          "base_uri": "https://localhost:8080/"
        },
        "id": "fso7pvLe6h7A",
        "outputId": "01fe78da-9796-46ff-8841-3fbf73615b4f"
      },
      "execution_count": null,
      "outputs": [
        {
          "output_type": "stream",
          "name": "stdout",
          "text": [
            "0     1.893284e-01\n",
            "1     4.043887e-01\n",
            "2     2.087824e-01\n",
            "3     1.201299e-01\n",
            "4     9.075320e-02\n",
            "5     9.079307e-02\n",
            "6     4.990066e-02\n",
            "7     1.552802e-01\n",
            "8     1.905910e-01\n",
            "9     2.312940e-01\n",
            "10    1.805800e-01\n",
            "11    1.155237e-15\n",
            "12    2.909502e-01\n",
            "13    1.573727e-01\n",
            "14    2.782715e-01\n",
            "15    6.552784e-02\n",
            "16    2.227617e-01\n",
            "17    2.363613e-01\n",
            "18    2.324684e-01\n",
            "19    4.323948e-02\n",
            "20    2.692644e-01\n",
            "21    1.357173e-01\n",
            "22    6.928019e-02\n",
            "23    3.509411e-01\n",
            "24   -1.834960e-01\n",
            "25    3.677944e-01\n",
            "26    2.174442e-01\n",
            "27    1.968134e-01\n",
            "28    2.937038e-01\n",
            "29    5.964362e-02\n",
            "30    1.834960e-01\n",
            "31    4.525706e-01\n",
            "32   -1.128782e-01\n",
            "33    3.453945e-02\n",
            "34    2.909502e-01\n",
            "35    3.910657e-01\n",
            "36    3.994677e-01\n",
            "37    0.000000e+00\n",
            "38    1.742089e-01\n",
            "39    2.056541e-01\n",
            "40    2.251929e-01\n",
            "41    8.612781e-01\n",
            "42    5.260571e-02\n",
            "43    2.606997e-01\n",
            "44   -1.041100e-01\n",
            "45    4.110031e-01\n",
            "46   -4.544199e-02\n",
            "47    1.101091e-01\n",
            "48    1.358866e-01\n",
            "49    2.576413e-01\n",
            "dtype: float64\n"
          ]
        },
        {
          "output_type": "stream",
          "name": "stderr",
          "text": [
            "/usr/local/lib/python3.7/dist-packages/ipykernel_launcher.py:2: FutureWarning: Dropping of nuisance columns in DataFrame reductions (with 'numeric_only=None') is deprecated; in a future version this will raise TypeError.  Select only valid columns before calling the reduction.\n",
            "  \n"
          ]
        }
      ]
    },
    {
      "cell_type": "code",
      "source": [
        "print (c2.skew(axis=1))"
      ],
      "metadata": {
        "colab": {
          "base_uri": "https://localhost:8080/"
        },
        "id": "OVJrq_3a7Pm-",
        "outputId": "4cb72953-4922-4776-f5e3-0f899415d039"
      },
      "execution_count": null,
      "outputs": [
        {
          "output_type": "stream",
          "name": "stdout",
          "text": [
            "50    2.729342e-01\n",
            "51    1.257432e-01\n",
            "52    2.057964e-01\n",
            "53    2.886630e-01\n",
            "54    3.166219e-01\n",
            "55   -1.724529e-01\n",
            "56   -6.269063e-02\n",
            "57    1.647225e-01\n",
            "58    2.139564e-01\n",
            "59    0.000000e+00\n",
            "60    3.206997e-01\n",
            "61    1.386161e-01\n",
            "62    4.190622e-01\n",
            "63   -5.431214e-02\n",
            "64    3.179179e-01\n",
            "65    3.549027e-01\n",
            "66   -2.555497e-01\n",
            "67    0.000000e+00\n",
            "68    4.193117e-01\n",
            "69    1.920262e-01\n",
            "70   -1.836102e-01\n",
            "71    3.888502e-01\n",
            "72    1.636345e-01\n",
            "73   -1.031621e-01\n",
            "74    2.966938e-01\n",
            "75    3.507662e-01\n",
            "76    2.881246e-01\n",
            "77    1.968134e-01\n",
            "78    5.964362e-02\n",
            "79    4.230932e-01\n",
            "80    2.583185e-01\n",
            "81    2.639848e-01\n",
            "82    2.683300e-01\n",
            "83   -7.928442e-02\n",
            "84   -3.856340e-01\n",
            "85   -2.137419e-01\n",
            "86    2.225064e-01\n",
            "87    4.182284e-01\n",
            "88   -1.450041e-01\n",
            "89    1.905910e-01\n",
            "90   -1.654325e-01\n",
            "91   -5.861538e-02\n",
            "92    2.525202e-01\n",
            "93    3.123103e-01\n",
            "94   -1.105615e-15\n",
            "95   -2.046150e-01\n",
            "96   -6.720020e-02\n",
            "97    1.831728e-01\n",
            "98    6.046680e-01\n",
            "99    6.720020e-02\n",
            "dtype: float64\n"
          ]
        },
        {
          "output_type": "stream",
          "name": "stderr",
          "text": [
            "/usr/local/lib/python3.7/dist-packages/ipykernel_launcher.py:1: FutureWarning: Dropping of nuisance columns in DataFrame reductions (with 'numeric_only=None') is deprecated; in a future version this will raise TypeError.  Select only valid columns before calling the reduction.\n",
            "  \"\"\"Entry point for launching an IPython kernel.\n"
          ]
        }
      ]
    },
    {
      "cell_type": "code",
      "source": [
        "print (c3.skew(axis=1))"
      ],
      "metadata": {
        "colab": {
          "base_uri": "https://localhost:8080/"
        },
        "id": "g-PllIdX94Fo",
        "outputId": "5a5888d0-2874-4b62-abbc-64ed45569666"
      },
      "execution_count": null,
      "outputs": [
        {
          "output_type": "stream",
          "name": "stdout",
          "text": [
            "100   -1.285632e-01\n",
            "101   -3.614479e-02\n",
            "102    9.450243e-02\n",
            "103   -1.312189e-01\n",
            "104   -2.895453e-02\n",
            "105    2.236197e-02\n",
            "106   -1.692376e-01\n",
            "107   -2.539674e-02\n",
            "108    4.672178e-02\n",
            "109    1.153629e-15\n",
            "110    1.047849e-01\n",
            "111    1.056644e-01\n",
            "112    1.536547e-01\n",
            "113    6.130967e-02\n",
            "114    9.952184e-02\n",
            "115    9.308652e-02\n",
            "116   -7.707131e-02\n",
            "117   -1.989079e-01\n",
            "118    5.936087e-02\n",
            "119    9.166204e-02\n",
            "120    1.142441e-01\n",
            "121   -4.337563e-02\n",
            "122    3.852033e-02\n",
            "123    2.235893e-01\n",
            "124   -8.093218e-02\n",
            "125   -6.955518e-02\n",
            "126    1.989215e-01\n",
            "127   -1.005145e-15\n",
            "128    2.895453e-02\n",
            "129   -7.091477e-16\n",
            "130    1.075153e-01\n",
            "131   -1.151718e-01\n",
            "132    5.592586e-02\n",
            "133   -4.323948e-02\n",
            "134   -1.919376e-01\n",
            "135    2.636590e-01\n",
            "136   -1.268922e-01\n",
            "137   -1.613251e-01\n",
            "138   -1.276933e-15\n",
            "139    2.148312e-01\n",
            "140    1.454808e-01\n",
            "141    4.850642e-01\n",
            "142   -3.614479e-02\n",
            "143    0.000000e+00\n",
            "144    7.702523e-02\n",
            "145    3.515141e-01\n",
            "146    2.564784e-01\n",
            "147    1.347946e-01\n",
            "148   -1.462441e-01\n",
            "149   -1.853869e-01\n",
            "dtype: float64\n"
          ]
        },
        {
          "output_type": "stream",
          "name": "stderr",
          "text": [
            "/usr/local/lib/python3.7/dist-packages/ipykernel_launcher.py:1: FutureWarning: Dropping of nuisance columns in DataFrame reductions (with 'numeric_only=None') is deprecated; in a future version this will raise TypeError.  Select only valid columns before calling the reduction.\n",
            "  \"\"\"Entry point for launching an IPython kernel.\n"
          ]
        }
      ]
    },
    {
      "cell_type": "markdown",
      "source": [
        "##Estimation par histogramme"
      ],
      "metadata": {
        "id": "S-1G1Xm7gC2E"
      }
    },
    {
      "cell_type": "code",
      "source": [
        "import matplotlib.pyplot as plt\n",
        "import numpy as np\n",
        "import scipy\n",
        "from scipy import stats\n",
        "k=int(np.floor(np.sqrt(N)))\n",
        "bin1 =np.linspace(sepLen.min(),sepLen.max(), k+1)\n",
        "plt.hist(SepLenc1,bins=bin1, alpha=0.5)\n",
        "plt.hist(SepLenc2,bins=bin1,alpha=0.5)\n",
        "plt.hist(SepLenc3,bins=bin1,alpha=0.5)\n",
        "plt.xlabel(\"\")\n",
        "plt.ylabel(\"\")\n",
        "plt.title(\"c1\")\n",
        "\n",
        "plt.show()\n"
      ],
      "metadata": {
        "colab": {
          "base_uri": "https://localhost:8080/",
          "height": 281
        },
        "id": "J9OIyYis96hl",
        "outputId": "07af7f93-459e-4dc0-dcc5-cd996ab4fa56"
      },
      "execution_count": null,
      "outputs": [
        {
          "output_type": "display_data",
          "data": {
            "text/plain": [
              "<Figure size 432x288 with 1 Axes>"
            ],
            "image/png": "[encoded data removed]"
          },
          "metadata": {
            "needs_background": "light"
          }
        }
      ]
    },
    {
      "cell_type": "code",
      "source": [
        "k2 =int(np.floor(2.5*N**(1/4)))\n",
        "bin2 =np.linspace(sepLen.min(),sepLen.max(), k2+1)\n",
        "plt.hist(SepLenc1,bins=bin2, alpha=0.5)\n",
        "plt.hist(SepLenc2,bins=bin2,alpha=0.5)\n",
        "plt.hist(SepLenc3,bins=bin2,alpha=0.5)\n",
        "plt.xlabel(\"\")\n",
        "plt.ylabel(\"\")\n",
        "plt.title(\"c1\")\n",
        "plt.show()"
      ],
      "metadata": {
        "colab": {
          "base_uri": "https://localhost:8080/",
          "height": 281
        },
        "id": "oifl2kdKGVVj",
        "outputId": "79947990-ba04-46bc-cf79-4f275684c620"
      },
      "execution_count": null,
      "outputs": [
        {
          "output_type": "display_data",
          "data": {
            "text/plain": [
              "<Figure size 432x288 with 1 Axes>"
            ],
            "image/png": "[encoded data removed]"
          },
          "metadata": {
            "needs_background": "light"
          }
        }
      ]
    },
    {
      "cell_type": "code",
      "source": [
        "k3 =int(1+3.3*np.log10(N))\n",
        "bin3 =np.linspace(sepLen.min(),sepLen.max(), k3+1)\n",
        "plt.hist(SepLenc1,bins=bin3, alpha=0.5)\n",
        "plt.hist(SepLenc2,bins=bin3,alpha=0.5)\n",
        "plt.hist(SepLenc3,bins=bin3,alpha=0.5)\n",
        "plt.xlabel(\"\")\n",
        "plt.ylabel(\"\")\n",
        "plt.title(\"c1\")\n",
        "plt.show()"
      ],
      "metadata": {
        "colab": {
          "base_uri": "https://localhost:8080/",
          "height": 281
        },
        "id": "V61skQ4qG6vx",
        "outputId": "e71d91fa-0485-4331-c9ef-80096c566ca4"
      },
      "execution_count": null,
      "outputs": [
        {
          "output_type": "display_data",
          "data": {
            "text/plain": [
              "<Figure size 432x288 with 1 Axes>"
            ],
            "image/png": "[encoded data removed]"
          },
          "metadata": {
            "needs_background": "light"
          }
        }
      ]
    },
    {
      "cell_type": "code",
      "source": [
        "plt.subplot(221)\n",
        "plt.hist(SepLenc1,np.linspace(sepLen.min(),sepLen.max(),int(k+1)),color=\"red\",alpha=1,label=\"SepLenC1\")\n",
        "plt.hist(SepLenc2,np.linspace(sepLen.min(),sepLen.max(),int(k+1)),color=\"blue\",alpha=0.75,label=\"SepLenC2\")\n",
        "plt.hist(SepLenc3,np.linspace(sepLen.min(),sepLen.max(),int(k+1)),color=\"yellow\",alpha=0.5,label=\"SepLenC3\")\n",
        "plt.legend()\n",
        "plt.subplot(222)\n",
        "plt.hist(sepWid1,np.linspace(sepWid.min(),sepWid.max(),int(k+1)),color=\"red\",alpha=1,label=\"SepWidC1\")\n",
        "plt.hist(sepWid1,np.linspace(sepWid.min(),sepWid.max(),int(k+1)),color=\"blue\",alpha=0.75,label=\"SepWidC2\")\n",
        "plt.hist(sepWid1,np.linspace(sepWid.min(),sepWid.max(),int(k+1)),color=\"yellow\",alpha=0.5,label=\"SepWidC3\")\n",
        "plt.legend()\n",
        "plt.subplot(223)\n",
        "plt.hist(petLen1,np.linspace(petLen.min(),petLen.max(),int(k+1)),color=\"red\",alpha=1,label=\"PetLenC1\")\n",
        "plt.hist(petLen2,np.linspace(petLen.min(),petLen.max(),int(k+1)),color=\"blue\",alpha=0.75,label=\"PetLenC2\")\n",
        "plt.hist(petLen3,np.linspace(petLen.min(),petLen.max(),int(k+1)),color=\"yellow\",alpha=0.5,label=\"PetLenC3\")\n",
        "plt.legend()\n",
        "plt.subplot(224)\n",
        "plt.hist(petWid1,np.linspace(petWid.min(),petWid.max(),int(k+1)),color=\"red\",alpha=1,label=\"PetwidC1\")\n",
        "plt.hist(petWid2,np.linspace(petWid.min(),petWid.max(),int(k+1)),color=\"blue\",alpha=0.75,label=\"PetWidC2\")\n",
        "plt.hist(petWid3,np.linspace(petWid.min(),petWid.max(),int(k+1)),color=\"yellow\",alpha=0.5,label=\"PetWidC3\")\n",
        "plt.legend()\n",
        "plt.show()"
      ],
      "metadata": {
        "colab": {
          "base_uri": "https://localhost:8080/",
          "height": 265
        },
        "id": "Bvmr9URiHoyh",
        "outputId": "82fff24f-97ce-44e9-e9fc-352ffb4e9382"
      },
      "execution_count": null,
      "outputs": [
        {
          "output_type": "display_data",
          "data": {
            "text/plain": [
              "<Figure size 432x288 with 4 Axes>"
            ],
            "image/png": "[encoded data removed]"
          },
          "metadata": {
            "needs_background": "light"
          }
        }
      ]
    },
    {
      "cell_type": "code",
      "source": [
        "from scipy.stats import norm\n",
        "PetLenDensity = norm.pdf(np.linspace(petLen.min(),petLen.max(),int(k+1)),loc=np.mean(petLen),scale=np.std(petLen))\n",
        "SepWidDensity = norm.pdf(np.linspace(sepWid.min(),sepWid.max(),int(k+1)),loc=np.mean(petLen),scale=np.std(petLen))\n",
        "plt.plot(norm.pdf(np.linspace(petLen.min(),petLen.max(),int(k+1)),loc=np.mean(petLen1),scale=np.std(petLen1)))\n",
        "plt.plot(norm.pdf(np.linspace(petLen.min(),petLen.max(),int(k+1)),loc=np.mean(petLen1),scale=np.std(petLen2)))\n",
        "plt.plot(norm.pdf(np.linspace(petLen.min(),petLen.max(),int(k+1)),loc=np.mean(petLen1),scale=np.std(petLen3)))\n",
        "plt.show()\n",
        "plt.plot(norm.pdf(np.linspace(sepWid.min(),sepWid.max(),int(k+1)),loc=np.mean(sepWid1),scale=np.std(sepWid1)))\n",
        "plt.plot(norm.pdf(np.linspace(sepWid.min(),sepWid.max(),int(k+1)),loc=np.mean(sepWid2),scale=np.std(sepWid2)))\n",
        "plt.plot(norm.pdf(np.linspace(sepWid.min(),sepWid.max(),int(k+1)),loc=np.mean(sepWid3),scale=np.std(sepWid3)))\n",
        "plt.show()"
      ],
      "metadata": {
        "colab": {
          "base_uri": "https://localhost:8080/",
          "height": 513
        },
        "id": "4yh2gcP2Psoo",
        "outputId": "300c83fd-7df1-4201-934f-eaa4bda72e95"
      },
      "execution_count": null,
      "outputs": [
        {
          "output_type": "display_data",
          "data": {
            "text/plain": [
              "<Figure size 432x288 with 1 Axes>"
            ],
            "image/png": "[encoded data removed]"
          },
          "metadata": {
            "needs_background": "light"
          }
        },
        {
          "output_type": "display_data",
          "data": {
            "text/plain": [
              "<Figure size 432x288 with 1 Axes>"
            ],
            "image/png": "[encoded data removed]"
          },
          "metadata": {
            "needs_background": "light"
          }
        }
      ]
    },
    {
      "cell_type": "markdown",
      "source": [
        "## Estimation par noyaux"
      ],
      "metadata": {
        "id": "s7P3_oZygWjw"
      }
    },
    {
      "cell_type": "code",
      "source": [
        "sns.kdeplot(petLen1,bw_adjust=2)\n",
        "sns.kdeplot(petLen2,bw_adjust=2)\n",
        "sns.kdeplot(petLen3,bw_adjust=2)"
      ],
      "metadata": {
        "colab": {
          "base_uri": "https://localhost:8080/",
          "height": 298
        },
        "id": "Lu-YQhuqUJlX",
        "outputId": "c0c3a92f-ecb0-4234-980e-f3d477decf77"
      },
      "execution_count": null,
      "outputs": [
        {
          "output_type": "execute_result",
          "data": {
            "text/plain": [
              "<matplotlib.axes._subplots.AxesSubplot at 0x7fcf195f81d0>"
            ]
          },
          "metadata": {},
          "execution_count": 164
        },
        {
          "output_type": "display_data",
          "data": {
            "text/plain": [
              "<Figure size 432x288 with 1 Axes>"
            ],
            "image/png": "[encoded data removed]"
          },
          "metadata": {
            "needs_background": "light"
          }
        }
      ]
    },
    {
      "cell_type": "code",
      "source": [
        "sns.kdeplot(sepWid1,bw_adjust=0.2)\n",
        "sns.kdeplot(sepWid2,bw_adjust=0.2)"
      ],
      "metadata": {
        "colab": {
          "base_uri": "https://localhost:8080/",
          "height": 298
        },
        "id": "5k3K_GgNUrHh",
        "outputId": "417c1594-3b66-4ce7-f733-6351365357a9"
      },
      "execution_count": null,
      "outputs": [
        {
          "output_type": "execute_result",
          "data": {
            "text/plain": [
              "<matplotlib.axes._subplots.AxesSubplot at 0x7fcf191580d0>"
            ]
          },
          "metadata": {},
          "execution_count": 166
        },
        {
          "output_type": "display_data",
          "data": {
            "text/plain": [
              "<Figure size 432x288 with 1 Axes>"
            ],
            "image/png": "[encoded data removed]"
          },
          "metadata": {
            "needs_background": "light"
          }
        }
      ]
    },
    {
      "cell_type": "code",
      "source": [
        "PetLenDensityNoyauc1=sns.kdeplot(petLen1,cumulative=True)\n",
        "PetLenDensityNoyauc1=sns.kdeplot(petLen2,cumulative=True)\n",
        "PetLenDensityNoyauc1=sns.kdeplot(petLen3,cumulative=True)"
      ],
      "metadata": {
        "colab": {
          "base_uri": "https://localhost:8080/",
          "height": 280
        },
        "id": "2oNHA1PNW-fl",
        "outputId": "d95bb22f-acd7-4272-a8d2-f7784c4a64f8"
      },
      "execution_count": null,
      "outputs": [
        {
          "output_type": "display_data",
          "data": {
            "text/plain": [
              "<Figure size 432x288 with 1 Axes>"
            ],
            "image/png": "[encoded data removed]"
          },
          "metadata": {
            "needs_background": "light"
          }
        }
      ]
    }
  ]
}